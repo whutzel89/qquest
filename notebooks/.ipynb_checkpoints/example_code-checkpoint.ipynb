{
 "cells": [
  {
   "cell_type": "markdown",
   "metadata": {},
   "source": [
    "# Reconstruction exmaple"
   ]
  },
  {
   "cell_type": "markdown",
   "metadata": {},
   "source": [
    "## Import the relevant libraries"
   ]
  },
  {
   "cell_type": "code",
   "execution_count": 1,
   "metadata": {
    "tags": []
   },
   "outputs": [],
   "source": [
    "import cirq\n",
    "import numpy as np\n",
    "import sympy\n",
    "from qiskit import *\n",
    "from qiskit import QuantumCircuit"
   ]
  },
  {
   "cell_type": "code",
   "execution_count": 2,
   "metadata": {
    "tags": []
   },
   "outputs": [],
   "source": [
    "import server\n",
    "\n",
    "server = server.Server()"
   ]
  },
  {
   "cell_type": "markdown",
   "metadata": {},
   "source": [
    "## Register team"
   ]
  },
  {
   "cell_type": "code",
   "execution_count": 3,
   "metadata": {
    "tags": []
   },
   "outputs": [
    {
     "name": "stdout",
     "output_type": "stream",
     "text": [
      "Successfully registered new team, 'myteam'. Good luck!\n",
      "\n",
      "Reminder: attacks and probes are limited to 20 per vault, per team.\n",
      "Vault index 0 is a test vault with 40 test probes and attacks, and does not count towards your final score.\n",
      "There is a request frequency limit of 10 probes/attacks per minute, per team.\n"
     ]
    }
   ],
   "source": [
    "server.register(\"myteam\")"
   ]
  },
  {
   "cell_type": "markdown",
   "metadata": {},
   "source": [
    "## Test probe using vault 0"
   ]
  },
  {
   "cell_type": "code",
   "execution_count": null,
   "metadata": {},
   "outputs": [],
   "source": [
    "cq = cirq.Circuit()\n",
    "cq.append(cirq.H.on(cirq.LineQubit(0)))\n",
    "cq.append(cirq.H.on(cirq.LineQubit(1)))\n",
    "cq.append(cirq.H.on(cirq.LineQubit(2)))\n",
    "test_probe = cirq.qasm(cq)\n",
    "print(test_probe)"
   ]
  },
  {
   "cell_type": "code",
   "execution_count": null,
   "metadata": {},
   "outputs": [],
   "source": [
    "#!!!!!!!!!!!!!!!!!!!!!!!!!!!!!!!!!!!!!!!!!!!!!!!!!!!!!!!!!!!!!!!!!!!!!!\n",
    "#!!!!!!!!!!!Be careful about the Endian of returned histogram!!!!!!!!!!\n",
    "#!!!!!!!!!!!!!!!!!!!!!!!!!!!!!!!!!!!!!!!!!!!!!!!!!!!!!!!!!!!!!!!!!!!!!!\n",
    "server.probe(vault_index=0, circuit=test_probe)"
   ]
  },
  {
   "cell_type": "markdown",
   "metadata": {},
   "source": [
    "## Test attack using vault 0"
   ]
  },
  {
   "cell_type": "code",
   "execution_count": 4,
   "metadata": {
    "tags": []
   },
   "outputs": [
    {
     "name": "stdout",
     "output_type": "stream",
     "text": [
      "// Generated from Cirq v1.3.0\n",
      "\n",
      "OPENQASM 2.0;\n",
      "include \"qelib1.inc\";\n",
      "\n",
      "\n",
      "// Qubits: [q(0), q(1), q(2)]\n",
      "qreg q[3];\n",
      "\n",
      "\n",
      "cx q[0],q[2];\n",
      "cx q[0],q[1];\n",
      "h q[0];\n",
      "\n"
     ]
    }
   ],
   "source": [
    "cq = cirq.Circuit()\n",
    "cq.append(cirq.CNOT.on(cirq.LineQubit(0), cirq.LineQubit(2)))\n",
    "cq.append(cirq.CNOT.on(cirq.LineQubit(0), cirq.LineQubit(1)))\n",
    "cq.append(cirq.H.on(cirq.LineQubit(0)))\n",
    "test_attack = cirq.qasm(cq)\n",
    "print(test_attack)"
   ]
  },
  {
   "cell_type": "code",
   "execution_count": 5,
   "metadata": {
    "tags": []
   },
   "outputs": [
    {
     "data": {
      "text/plain": [
       "{'score': 0.8, 'costFactor': 0.8, 'rawScore': 1}"
      ]
     },
     "execution_count": 5,
     "metadata": {},
     "output_type": "execute_result"
    }
   ],
   "source": [
    "server.attack(vault_index=0, circuit=test_attack)"
   ]
  },
  {
   "cell_type": "markdown",
   "metadata": {},
   "source": [
    "## Check state"
   ]
  },
  {
   "cell_type": "markdown",
   "metadata": {},
   "source": [
    "Check state for your team's current score(s), and number of probes/attacks remaining"
   ]
  },
  {
   "cell_type": "code",
   "execution_count": 9,
   "metadata": {
    "tags": []
   },
   "outputs": [
    {
     "data": {
      "text/plain": [
       "{'team': 'myteam',\n",
       " 'totalAvgScore': 0,\n",
       " 'topVaultScores': [0.8, 0, 0, 0, 0, 0, 0, 0, 0, 0, 0, 0, 0],\n",
       " 'probesRemaining': [40, 20, 20, 20, 20, 20, 20, 20, 20, 20, 20, 20, 20],\n",
       " 'attacksRemaining': [39, 20, 20, 20, 20, 20, 20, 20, 20, 20, 20, 20, 20],\n",
       " 'reminder': 'Vault index 0 is a test vault, and does not count towards your final score.'}"
      ]
     },
     "execution_count": 9,
     "metadata": {},
     "output_type": "execute_result"
    }
   ],
   "source": [
    "server.state()"
   ]
  }
 ],
 "metadata": {
  "kernelspec": {
   "display_name": "Python 3 (ipykernel)",
   "language": "python",
   "name": "python3"
  },
  "language_info": {
   "codemirror_mode": {
    "name": "ipython",
    "version": 3
   },
   "file_extension": ".py",
   "mimetype": "text/x-python",
   "name": "python",
   "nbconvert_exporter": "python",
   "pygments_lexer": "ipython3",
   "version": "3.9.0"
  },
  "vscode": {
   "interpreter": {
    "hash": "159d45c1b56606e60b489f81d4ff9591881a6e95352a42f62c421b24d39eb409"
   }
  }
 },
 "nbformat": 4,
 "nbformat_minor": 4
}
